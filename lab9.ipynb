{
 "cells": [
  {
   "cell_type": "markdown",
   "id": "7f1a89bf",
   "metadata": {},
   "source": [
    "Name : Guru Aakash G"
   ]
  },
  {
   "cell_type": "markdown",
   "id": "ea78c68d",
   "metadata": {},
   "source": [
    "Roll number : 191IT220"
   ]
  },
  {
   "cell_type": "markdown",
   "id": "839806cd",
   "metadata": {},
   "source": [
    "Subject : IT352 - Information Assurance and Security"
   ]
  },
  {
   "cell_type": "markdown",
   "id": "94bbdc3b",
   "metadata": {},
   "source": [
    "Date : 13-04-2022"
   ]
  },
  {
   "cell_type": "markdown",
   "id": "2c839645",
   "metadata": {},
   "source": [
    "Topic :  ElGamal digital signature creation and verification"
   ]
  },
  {
   "cell_type": "markdown",
   "id": "88f9e83a",
   "metadata": {},
   "source": [
    "## Function"
   ]
  },
  {
   "cell_type": "code",
   "execution_count": 16,
   "id": "9c2e8e29",
   "metadata": {},
   "outputs": [],
   "source": [
    "def modInverse(a, m):\n",
    "    m0 = m\n",
    "    y = 0\n",
    "    x = 1\n",
    "    if (m == 1):\n",
    "        return 0\n",
    "    while (a > 1):\n",
    "        q = a // m\n",
    " \n",
    "        t = m\n",
    "        m = a % m\n",
    "        a = t\n",
    "        t = y\n",
    " \n",
    "\n",
    "        y = x - q * y\n",
    "        x = t\n",
    " \n",
    "    if (x < 0):\n",
    "        x = x + m0\n",
    "    return x\n",
    "\n",
    "def signing(d,r,p,e1,M):\n",
    "    \n",
    "    s1 = pow(e1,r,p)\n",
    "    print(\"s1 =\",s1)\n",
    "    \n",
    "    temp1 = (M - d*s1) % (p-1)\n",
    "    temp2 = modInverse(pow(r,1), p-1)\n",
    "    s2 = (temp1*temp2) % (p-1)\n",
    "    print(\"s2 =\",s2)\n",
    "    \n",
    "    return s1,s2\n",
    "\n",
    "def verifying(e1,e2,s1,s2,p,M):\n",
    "    v1 = pow(e1,M,p)\n",
    "    print(\"v1 =\",v1)\n",
    "    \n",
    "    v2 = (pow(e2,s1,p)*pow(s1,s2,p))%p\n",
    "    print(\"v2 =\",v2)\n",
    "    \n",
    "    s = \"\"\n",
    "    if(v1==v2):\n",
    "        s = \"Signature is valid\"\n",
    "        print(s)\n",
    "    else:\n",
    "        s = \"Signature is not valid\"\n",
    "        print(s)\n",
    "    \n",
    "    return v1,v2,s\n",
    "\n",
    "def get_input():\n",
    "    e1 = int(input(\"Enter the value of e1 = \"))\n",
    "    p = int(input(\"Enter the value of p = \"))\n",
    "    d = int(input(\"Enter the value of d = \"))\n",
    "    r = int(input(\"Enter the value of r = \"))\n",
    "    M = input(\"Enter the message : \")\n",
    "    \n",
    "    output = []\n",
    "    print(\"\\nOutput :\\n\")\n",
    "    \n",
    "    #Convert M\n",
    "    M = M.upper()\n",
    "    m = ''\n",
    "    for i in M:\n",
    "        if(i == ' '):\n",
    "            m += str(26)\n",
    "        elif i<='Z' and i>='A':\n",
    "            m += str(ord(i) - ord('A')).zfill(2)\n",
    "    print(\"Message =\",m)\n",
    "    output.append(\"Message =\"+str(m)+\"\\n\")\n",
    "\n",
    "    \n",
    "    #Find e2 \n",
    "    e2 = pow(int(e1),int(d),int(p))\n",
    "    print(\"e2 = \",e2)\n",
    "    output.append(\"e2 = \"+str(e2)+\"\\n\")\n",
    "\n",
    "    \n",
    "    s1,s2 = signing(d,r,p,e1,int(m))\n",
    "    output.append(\"s1 = \"+str(s1)+\"\\n\")\n",
    "    output.append(\"s2 = \"+str(s2)+\"\\n\")\n",
    "    \n",
    "    v1,v2,s = verifying(e1,e2,s1,s2,p,int(m))\n",
    "    output.append(\"v1 = \"+str(v1)+\"\\n\")\n",
    "    output.append(\"v2 = \"+str(v2)+\"\\n\")\n",
    "    output.append(s+\"\\n\")\n",
    "    \n",
    "    return output"
   ]
  },
  {
   "cell_type": "markdown",
   "id": "3db30fe9",
   "metadata": {},
   "source": [
    "# Testcases"
   ]
  },
  {
   "cell_type": "markdown",
   "id": "34e3e5b6",
   "metadata": {},
   "source": [
    "### Storing in file"
   ]
  },
  {
   "cell_type": "code",
   "execution_count": 17,
   "id": "4ed34e61",
   "metadata": {},
   "outputs": [],
   "source": [
    "def store_output_file(filename,output):\n",
    "    file = open(filename,\"w\")\n",
    "    file.writelines(output)\n",
    "    file.close()"
   ]
  },
  {
   "cell_type": "markdown",
   "id": "c0e9bbc1",
   "metadata": {},
   "source": [
    "### Testcase 1"
   ]
  },
  {
   "cell_type": "code",
   "execution_count": 18,
   "id": "19cf9b0e",
   "metadata": {},
   "outputs": [
    {
     "name": "stdout",
     "output_type": "stream",
     "text": [
      "Enter the value of e1 = 2\n",
      "Enter the value of p = 3119\n",
      "Enter the value of d = 127\n",
      "Enter the value of r = 5\n",
      "Enter the message : Sweet Mango Fruit\n",
      "\n",
      "Output :\n",
      "\n",
      "Message = 1822040419261200130614260517200819\n",
      "e2 =  1702\n",
      "s1 = 32\n",
      "s2 = 845\n",
      "v1 = 980\n",
      "v2 = 980\n",
      "Signature is valid\n"
     ]
    }
   ],
   "source": [
    "output = get_input()\n",
    "store_output_file(\"191IT220_IT352_P9_Output_TC1.txt\",output)"
   ]
  },
  {
   "cell_type": "markdown",
   "id": "08c74580",
   "metadata": {},
   "source": [
    "### Testcase 2"
   ]
  },
  {
   "cell_type": "code",
   "execution_count": 19,
   "id": "75ae5caa",
   "metadata": {},
   "outputs": [
    {
     "name": "stdout",
     "output_type": "stream",
     "text": [
      "Enter the value of e1 = 2\n",
      "Enter the value of p = 3119\n",
      "Enter the value of d = 127\n",
      "Enter the value of r = 7\n",
      "Enter the message : Apple Orange Mango Grapes\n",
      "\n",
      "Output :\n",
      "\n",
      "Message = 00151511042614170013060426120013061426061700150418\n",
      "e2 =  1702\n",
      "s1 = 128\n",
      "s2 = 216\n",
      "v1 = 2163\n",
      "v2 = 2163\n",
      "Signature is valid\n"
     ]
    }
   ],
   "source": [
    "output = get_input()\n",
    "store_output_file(\"191IT220_IT352_P9_Output_TC2.txt\",output)"
   ]
  },
  {
   "cell_type": "markdown",
   "id": "59f641a6",
   "metadata": {},
   "source": [
    "### Testcase 3"
   ]
  },
  {
   "cell_type": "code",
   "execution_count": 20,
   "id": "050abf7b",
   "metadata": {},
   "outputs": [
    {
     "name": "stdout",
     "output_type": "stream",
     "text": [
      "Enter the value of e1 = 2\n",
      "Enter the value of p = 3119\n",
      "Enter the value of d = 127\n",
      "Enter the value of r = 11\n",
      "Enter the message : Security is hard to achieve\n",
      "\n",
      "Output :\n",
      "\n",
      "Message = 180402201708192426081826070017032619142600020708042104\n",
      "e2 =  1702\n",
      "s1 = 2048\n",
      "s2 = 2776\n",
      "v1 = 2817\n",
      "v2 = 2817\n",
      "Signature is valid\n"
     ]
    }
   ],
   "source": [
    "output = get_input()\n",
    "store_output_file(\"191IT220_IT352_P9_Output_TC3.txt\",output)"
   ]
  },
  {
   "cell_type": "markdown",
   "id": "14f8f674",
   "metadata": {},
   "source": [
    "### Testcase 4"
   ]
  },
  {
   "cell_type": "code",
   "execution_count": 21,
   "id": "9e2e4b5b",
   "metadata": {},
   "outputs": [
    {
     "name": "stdout",
     "output_type": "stream",
     "text": [
      "Enter the value of e1 = 2\n",
      "Enter the value of p = 3119\n",
      "Enter the value of d = 127\n",
      "Enter the value of r = 13\n",
      "Enter the message : No online examination\n",
      "\n",
      "Output :\n",
      "\n",
      "Message = 131426141311081304260423001208130019081413\n",
      "e2 =  1702\n",
      "s1 = 1954\n",
      "s2 = 697\n",
      "v1 = 843\n",
      "v2 = 843\n",
      "Signature is valid\n"
     ]
    }
   ],
   "source": [
    "output = get_input()\n",
    "store_output_file(\"191IT220_IT352_P9_Output_TC4.txt\",output)"
   ]
  },
  {
   "cell_type": "markdown",
   "id": "dfff9f30",
   "metadata": {},
   "source": [
    "### Testcase 5"
   ]
  },
  {
   "cell_type": "code",
   "execution_count": 22,
   "id": "63b78f48",
   "metadata": {},
   "outputs": [
    {
     "name": "stdout",
     "output_type": "stream",
     "text": [
      "Enter the value of e1 = 2\n",
      "Enter the value of p = 3119\n",
      "Enter the value of d = 127\n",
      "Enter the value of r = 13\n",
      "Enter the message : Offline classes started from March\n",
      "\n",
      "Output :\n",
      "\n",
      "Message = 14050511081304260211001818041826181900171904032605171412261200170207\n",
      "e2 =  1702\n",
      "s1 = 1954\n",
      "s2 = 2665\n",
      "v1 = 598\n",
      "v2 = 598\n",
      "Signature is valid\n"
     ]
    }
   ],
   "source": [
    "output = get_input()\n",
    "store_output_file(\"191IT220_IT352_P9_Output_TC5.txt\",output)"
   ]
  },
  {
   "cell_type": "markdown",
   "id": "19848c09",
   "metadata": {},
   "source": [
    "### Testcase 6"
   ]
  },
  {
   "cell_type": "code",
   "execution_count": 23,
   "id": "024f2706",
   "metadata": {},
   "outputs": [
    {
     "name": "stdout",
     "output_type": "stream",
     "text": [
      "Enter the value of e1 = 2\n",
      "Enter the value of p = 3119\n",
      "Enter the value of d = 127\n",
      "Enter the value of r = 15\n",
      "Enter the message : No online end semester exam\n",
      "\n",
      "Output :\n",
      "\n",
      "Message = 131426141311081304260413032618041204181904172604230012\n",
      "e2 =  1702\n",
      "s1 = 1578\n",
      "s2 = 1282\n",
      "v1 = 696\n",
      "v2 = 696\n",
      "Signature is valid\n"
     ]
    }
   ],
   "source": [
    "output = get_input()\n",
    "store_output_file(\"191IT220_IT352_P9_Output_TC6.txt\",output)"
   ]
  },
  {
   "cell_type": "code",
   "execution_count": null,
   "id": "61166cc4",
   "metadata": {},
   "outputs": [],
   "source": []
  }
 ],
 "metadata": {
  "kernelspec": {
   "display_name": "Python (Python 3.8.10)",
   "language": "python",
   "name": "py371"
  },
  "language_info": {
   "codemirror_mode": {
    "name": "ipython",
    "version": 3
   },
   "file_extension": ".py",
   "mimetype": "text/x-python",
   "name": "python",
   "nbconvert_exporter": "python",
   "pygments_lexer": "ipython3",
   "version": "3.8.10"
  }
 },
 "nbformat": 4,
 "nbformat_minor": 5
}
