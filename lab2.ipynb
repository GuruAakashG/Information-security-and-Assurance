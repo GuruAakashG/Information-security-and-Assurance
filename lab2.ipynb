{
 "cells": [
  {
   "cell_type": "markdown",
   "id": "732da7e0",
   "metadata": {
    "scrolled": false
   },
   "source": [
    "NAME    : GURU AAKASH G\n",
    "ROLLNO  : 191IT220\n",
    "SUBJECT : IT352\n",
    "DATE    : 06/02/2022\n",
    "TOPIC   : IMPLEMENTATION OF SHA256 ALGORITHM"
   ]
  },
  {
   "cell_type": "markdown",
   "id": "81a1e40d",
   "metadata": {},
   "source": [
    "# Task 1"
   ]
  },
  {
   "cell_type": "markdown",
   "id": "a9ce0e6f",
   "metadata": {},
   "source": [
    "### Import modules"
   ]
  },
  {
   "cell_type": "code",
   "execution_count": 10,
   "id": "4757ff7b",
   "metadata": {
    "scrolled": true
   },
   "outputs": [],
   "source": [
    "import hashlib\n",
    "import os\n",
    "import time"
   ]
  },
  {
   "cell_type": "markdown",
   "id": "bce649d4",
   "metadata": {},
   "source": [
    "### Import Dataset"
   ]
  },
  {
   "cell_type": "code",
   "execution_count": 11,
   "id": "690e02af",
   "metadata": {
    "scrolled": true
   },
   "outputs": [
    {
     "name": "stdout",
     "output_type": "stream",
     "text": [
      "Total number of images =  110\n"
     ]
    }
   ],
   "source": [
    "def dataset(path):\n",
    "    #get filename of the images\n",
    "    fn = []\n",
    "    for filename in os.listdir(path):\n",
    "        fn.append(path+filename)\n",
    "    return fn\n",
    "\n",
    "fn = dataset('dataset/fireimages/')\n",
    "n = len(fn)\n",
    "print(\"Total number of images = \",n)\n",
    "#print(df)"
   ]
  },
  {
   "cell_type": "markdown",
   "id": "5533b43a",
   "metadata": {},
   "source": [
    "### SHA256 hash algorithm"
   ]
  },
  {
   "cell_type": "code",
   "execution_count": 12,
   "id": "38b76f81",
   "metadata": {
    "scrolled": true
   },
   "outputs": [],
   "source": [
    "def sha256(filename):\n",
    "    h = hashlib.sha256()\n",
    "    with open(filename, 'rb', buffering=0) as f:\n",
    "        for b in iter(lambda : f.read(), b''):\n",
    "            h.update(b)\n",
    "    return h.hexdigest()"
   ]
  },
  {
   "cell_type": "markdown",
   "id": "5ec76d26",
   "metadata": {},
   "source": [
    "### Output of the signature generated"
   ]
  },
  {
   "cell_type": "code",
   "execution_count": 13,
   "id": "590d202b",
   "metadata": {
    "scrolled": false
   },
   "outputs": [
    {
     "name": "stdout",
     "output_type": "stream",
     "text": [
      "74a6409239d33a717d149198ffb1cf4dd38c8a6989ef5294204031e6c93acad9  - Image 1\n",
      "178ee3905ec441002e8f12d41143cab13ae7d012e99e28768570b551463bf3ef  - Image 2\n",
      "a88be5aed253a92f06f34c6f060c5b10e35b023f3ef9fa9be8203da0fd7477ba  - Image 3\n",
      "744cb26a65ef85d08704f7322a205a1be843f678c865f7f4c0a1325be149091a  - Image 4\n",
      "3ad700a9d36b48a6337e284fcbd3066f9dfcb0ff0cdb7ddbcd4ca1c7edd1f4b4  - Image 5\n",
      "a4c9ef1f0342d8ca06de3e1b53bbf95790c4858d1ff7c49ea09011aab3524d1a  - Image 6\n",
      "6e0db388040c718d9ea243875b4be99724cbbc1491355f4fe19ab9b64202606b  - Image 7\n",
      "a4512b5339273c1d82bd39e66939aface2f55caa617981586a03a8d968850a33  - Image 8\n",
      "36215f6b57f0b2539f12579b5d0ed958b0453c8b046d1b2c1daf8db7f0a2c347  - Image 9\n",
      "cf6a220a4c347249e99e6b37d47074d2d90766f20d221481dca84c7e4435ac9f  - Image 10\n",
      "6afad1bda66cfc4ae3141ebe60e4c2960fd1ea1e40727b02ab496bc2193e6868  - Image 11\n",
      "521df34d3c200fe0762063368eb8e660583ccf958604829d2ad95db4415957b6  - Image 12\n",
      "0d872218ba9525ceb98967665d440e59cf0a8b8a42ee328543e01220f094bb21  - Image 13\n",
      "504061c882c721e2ed725200e67abd90535c271d5708594848eae40c1a67ab43  - Image 14\n",
      "fcf7dca1d62c530d421946753fabc13c87e731306d2b9998762497777284bf88  - Image 15\n",
      "1145c0dee061553ad407c8f49fa8571d1d1fea7b6f05b08f7c3e50e20ec1bc95  - Image 16\n",
      "4142a602eb04251e6693bed9bca7c1b48fca36e5a369ba991ccddaeca4a9db67  - Image 17\n",
      "4978e86124415f8664aa45d7c8fa32142d4858384d23bbc8971a58bc69b14999  - Image 18\n",
      "ed030e92cd2a903c181e0db94b525f91b48910ef6a502a34d9ba693b636f93a7  - Image 19\n",
      "b33fa186796aa0ee246d292f8a079dca22b156b2a1880712ed54be927c90985b  - Image 20\n",
      "ab21fe3124c2d600939a324c5f31c096dabf6da18aa33b9634e9959e99f436d9  - Image 21\n",
      "2df2eb8f2df751c7e33c15455f1afbf73f112906d95b05322aec207f54d9ed4b  - Image 22\n",
      "b64dce5365156b2e109a7a508bccbb88dc469da102a6173928aebb2ed3fb3c87  - Image 23\n",
      "381510e85234c12701f5a8b79e2df5b7b8ba5d3dff3740ad8f2112c187480b59  - Image 24\n",
      "a51d06465b3eb5303b67ab4981be5d90a75f972182624d42015fea5dae1f0354  - Image 25\n",
      "d73f4df3567d5d92917eaa11a982c81e7c3356f430bc9a00a25a4607a0d38763  - Image 26\n",
      "e6fd9ad6b80fccb1c6739556f7fdfc94cc832066e032ae1797a39a7a783d1463  - Image 27\n",
      "6cff43f6e4d15e16e6166b514f8ae0163ea3b88e8604bd20218f5648be412ac8  - Image 28\n",
      "51048b06d4046e8a61438855b86b042c97e3791826078bcafc0d62adb1349ed7  - Image 29\n",
      "33142111d40b479d4b6e67c8e945f566395ecb694dbfdf4e878ea6d205e98cfd  - Image 30\n",
      "d3e4483cd8e077909e64b0dc7a2ae07ee856762b08926a977736f2e080c93635  - Image 31\n",
      "9e22964eb2ecbcd2881712db94818a56e6834018b48d306110da4189c1726709  - Image 32\n",
      "fb0da3be512036022aecb1cee0e416a59791954e67e721c4864999e1c5653df2  - Image 33\n",
      "077f70dfbf5ae97a99bbbdf65cae4de28db790dcd0e8130eda0427f7be04cae3  - Image 34\n",
      "8c8203505734b986d01f8dc29008ca5e0f21716be2acf79b1acc800ed38c37e4  - Image 35\n",
      "8cbce26da6baf19e9f543529c50a59c1dd4f3eb0e95d9421d966f114b75eb321  - Image 36\n",
      "c9faa6d59c6608df8b00328c0cdc66b79769e4dd6ecb6daf5b78634623c47e69  - Image 37\n",
      "b7d99ef9534063c259b3d8153ad5b7c693929ad2696ae331ebe7084958754e90  - Image 38\n",
      "88c75ab9045f5858be050b4078488cb9b870c85e0ff2329b9b5147509458152b  - Image 39\n",
      "459e72cce47f19f168d9b9b53b9bb6b479e568c0d1b1602a579cff8e884a1e80  - Image 40\n",
      "97f7bf000876e4b6adc08a543e6d4c33cb030dbf87a4d9a11f68ba0ab1640f0e  - Image 41\n",
      "1f63a5ff63359a7596ca7e979c221316022845ed0a92545bdda266c0d7e293cc  - Image 42\n",
      "15a8472c663070c5ffe3da9a331c61c6c0f8d480eaa5784ce99aba91f32e2fe7  - Image 43\n",
      "94ab1b6d073df8b1451d2e0cc39b9c74bcb0c4ceb6bdf851ff6c4523385cd399  - Image 44\n",
      "d41cc940afd1ab48757623f31a19f0ef2265b4a9e7f26d9fcba7cba14cb37393  - Image 45\n",
      "1774e23a890d154bf60353216b11121aa7bbbfd7cc570a4c074864bbcdc6f2db  - Image 46\n",
      "d0475831507c59d180a1c6dcf164a7a10fdcd7476320af2d4d5364d444c7d802  - Image 47\n",
      "15f49941c5f50d2ff6f995cd48289d2da68f6298c39b4968b560851f48c72659  - Image 48\n",
      "4a85f00d4acdca342a4783dfb7bc1ff48687e365fa1780152744bc63a457c1f4  - Image 49\n",
      "8d4bf51687db9423a2f64c8c49e47ab286bc65d10cc590ba6b1a28e3bef625fa  - Image 50\n",
      "a2244111d4e1b72a67a09e455bc7de3e2aefb4967ac208ca92805c5193e0f687  - Image 51\n",
      "f310e28d9077559f84748208a066c98d0af1da292e57ebfc2c6ef03351448763  - Image 52\n",
      "3cec015f3457a201ee35488902d54eef330d3561d573022e07a92678e09ef538  - Image 53\n",
      "287d35d49b3ed93e95b2b509481ecd9e81d4323afbe19b7e03dedc2b682725df  - Image 54\n",
      "4985a63764a2e6d0dd04b48880988c2f18dd70ee593c4b608890869e58483527  - Image 55\n",
      "3f4039f9e50900f68aaa95cb335eb835dca4e05ff40fec6e16f30a769a1346c9  - Image 56\n",
      "ee77c705eec8425b9dd608349bd63318f654a444a06ad947fefdaeca36ae76ba  - Image 57\n",
      "ef3dcf3cfe41cd7d200348c00faac24333b1fcbc53a6aab6ebb94a89bd83f7f6  - Image 58\n",
      "69c80ff60108d676a39ddfd6b6e7122a37bb753fa6882a8154cfe06c0828d8c2  - Image 59\n",
      "78cfbd08124514fd983197c261d9571103a4664a9fec3a02b7d6beaae2dc9a58  - Image 60\n",
      "4a62a29610bce24c442fb3615c398de5faa4035d311c002ba82ade4416ac416a  - Image 61\n",
      "500c83b8c3912d45f05e779c7f8d0069e73bfc5cc4387f48ca18741b958e5516  - Image 62\n",
      "ac06a35c6836556bbc9e154e818597afea76ed83eed2bab712b019e92e79b69a  - Image 63\n",
      "a3066af386846b19f114173cefd8821e45aec9ad62590f7f2d6c3f486b9bfed0  - Image 64\n",
      "ead8a68f8b8bd6b739b2c0eb298bfd6cf4518b1d42fa371d3c540720a9301175  - Image 65\n",
      "905e553f9b76d898316e0207b00b24bc3ce32b96185d10ed22b25ce420ce544a  - Image 66\n",
      "f51ff759a00f408b1bdbc23289ffd0e676bb55bca199e97c7825953f468cf42e  - Image 67\n",
      "f0354e1f4c389e3f0dff7ae060fa526ff7111f39830c25a915a6ecb232c13e98  - Image 68\n",
      "cd2c48e58fa557ff48b9bdd6b8f7089937c7e00385e0c2caba2a65d0db10df23  - Image 69\n",
      "2383361f382cf3f90926c9d83b5849558c9f1808345bbe80c4ba14d69ecc1778  - Image 70\n",
      "be2579011ba3893262fdfa1fe591c575f9d39bbc7b0810262010825ac0553b44  - Image 71\n",
      "dfbca8ce669de9af5fbcff1dd5c71bfaae61134bdd9aaf0a51bf0bb0d5dc0955  - Image 72\n",
      "c5941b0bc1b36ee6752465819b3cfa71da248e69c310b8aacb30c7c6a8a29ddd  - Image 73\n",
      "dc881fa206af07e3bb937cf576b6385ea7e40375cf4ba9daac5973d5b7b979ef  - Image 74\n",
      "63474e58e3c4932c56282a81a973f1f1d43fac18158c2244e530b523a2f2c30b  - Image 75\n",
      "1af473d3117f63de66db524a9708dc5d325f28e9c6b139ca73b175f8586db5ad  - Image 76\n",
      "54d1df908ef3f9717534a9a33d768b7720ea4a5ec44fe604a7315dec93ed656b  - Image 77\n",
      "143388237441a4474069feab22b3d76f222a9e0759e7bb8fd6a4e00ba81ed634  - Image 78\n",
      "3e7c679e1b91031cf3649413ef2acbbf5637c7995a7ff186b350fc8eef1516f3  - Image 79\n",
      "e02f21feef5edc79f6195d9c84a2ab6aad3456fbdcf6056e5e0135567900240b  - Image 80\n",
      "716e209ea6df30b482ae2c93c7c2f45f40ffed734245592ecf74a5a505d030f0  - Image 81\n",
      "0e2644cff800d1ac54b756f438acc64bef1a71c85b594561e5524661e0056a84  - Image 82\n",
      "0e2644cff800d1ac54b756f438acc64bef1a71c85b594561e5524661e0056a84  - Image 83\n",
      "df2e8dc17ea65a28f91e63f0cb52fd64b1758656828c7ce54e76113be5bb9c77  - Image 84\n",
      "4ca36ae0a7716d3ad35e9a104d3bf08ce1830c9e7dd9c3794eabafff6abc3cc6  - Image 85\n",
      "c01eda980ef87ec83447ef9fd5a002f61d24546f7215d267817fc23db396959c  - Image 86\n",
      "cad7c4108f12c89d63a2c43c4b073f88fac265197bcbcd36de1bff8b1c46c255  - Image 87\n",
      "99e10f82b0bc0fca3636def6e535b20016373734aaea76ad259c09de087ef221  - Image 88\n",
      "af05309a4f1b49c4f4901df39f5d00fdd20ce45b8eea612348971a002cb06395  - Image 89\n",
      "84183bd1fb2cff47b74e901ddaebb94adafbe22157880378ed390b80cacf8033  - Image 90\n",
      "d77204e19588d93f62a1968ca21886cea128be912fad06f6adc0d1781b2ff897  - Image 91\n",
      "250dd9bc28f7b074075ec5a046d7ae28bd65482c7bf98de7973a83c34be480d1  - Image 92\n",
      "5dceaeb2538dc45b6297a9fb873250d879ac467aeb2b13018bef0aeac5d0f027  - Image 93\n",
      "958112f6c71cfdac933d0bfdb792cadc51655ca5f685efbb91b02c428edd27a7  - Image 94\n",
      "e78e8da76e04cc711dd4233e760aaa544bf503a5a71d95a678054f87d55dee71  - Image 95\n",
      "839dc03030b10d40360bec7f73c846b76faeb416e4ad7d9f676f1984204d5b5d  - Image 96\n",
      "ced019f888bd8484cea5061271d84fc9cfbbca1d37b6406f559c5a7be6f7f3b8  - Image 97\n",
      "00d22c66a69bf831c53567cf65c9e933bee8dde6c811f19f5ac282c297583bc3  - Image 98\n",
      "22c58d113615d957673d669b29e0ea66a6cf83c59133ae4862fe3cce567fada4  - Image 99\n",
      "228da7b7d514f1811c880fba12c6d737e864d1225a80a82931e850eb92a60570  - Image 100\n",
      "58372de74c408352f54d85cba552593dc40745dc15f13d112f4d0801d28a946d  - Image 101\n",
      "3cb46a15d7d38ea923b6ea6511a5ba5bc7f4d6e9b09e75e72b05f70134a070f8  - Image 102\n",
      "d50309973215dcabedcf6b37207ebab07df99202f927ff1c2281818a4d928931  - Image 103\n",
      "ac50011f39bf50efd5245dbe5f137f0f7e30b1e1b1c36cc15bd6db842654b1d4  - Image 104\n",
      "40a050590713d73691e537d466775bf9514d000bf43052f7ca81624cf6310780  - Image 105\n",
      "888c482aac5b8420cd7d24a3614cebc33c96b7c6ba0727e931fceccf093d44b9  - Image 106\n",
      "d59d294b6f986c1fd6ffe0f532bb071bcf8e875a018fb85a24d3e4e56870c042  - Image 107\n",
      "8812e11cb5a1d6f14d3c9209aaed741942b6d2c7b0c102851557bc6456828b10  - Image 108\n",
      "e8c46a7a0e18ee4172a608093d46f739588fb7d657759a0406c0276ffd87007d  - Image 109\n",
      "9bfc7bc6ab1d548b16375a926dfd99267bd8692f509ae449d70cbd7eb6f612ed  - Image 110\n"
     ]
    }
   ],
   "source": [
    "def fit_output(fn,n):\n",
    "    output = []\n",
    "    for i in range(0,n):\n",
    "        output.append(sha256(fn[i]))\n",
    "        print(output[i],\" - Image\",i+1)\n",
    "    \n",
    "    return output\n",
    "\n",
    "output = fit_output(fn,n)"
   ]
  },
  {
   "cell_type": "markdown",
   "id": "93c82c66",
   "metadata": {},
   "source": [
    "### Storing the output into file"
   ]
  },
  {
   "cell_type": "code",
   "execution_count": 14,
   "id": "31970bbe",
   "metadata": {
    "scrolled": true
   },
   "outputs": [],
   "source": [
    "output_file = open('191IT220_IT352_image_signature_database.txt', 'w')\n",
    "for i in output:\n",
    "    output_file.write(i+'\\n')\n",
    "output_file.close()"
   ]
  },
  {
   "cell_type": "markdown",
   "id": "bff2010f",
   "metadata": {},
   "source": [
    "### Time consumed for signature generation"
   ]
  },
  {
   "cell_type": "code",
   "execution_count": 15,
   "id": "aa011b94",
   "metadata": {
    "scrolled": true
   },
   "outputs": [
    {
     "name": "stdout",
     "output_type": "stream",
     "text": [
      "Time Taken for signature generation =  0.09107279777526855 s\n"
     ]
    }
   ],
   "source": [
    "time_taken = []\n",
    "for i in range(0,n):\n",
    "    begin = time.time()\n",
    "    sha256(fn[i])\n",
    "    end = time.time()\n",
    "    time_taken.append(end-begin)\n",
    "\n",
    "print(\"Time Taken for signature generation = \",sum(time_taken),\"s\")"
   ]
  },
  {
   "cell_type": "markdown",
   "id": "a66de532",
   "metadata": {},
   "source": [
    "# Task 2"
   ]
  },
  {
   "cell_type": "markdown",
   "id": "1e088c01",
   "metadata": {},
   "source": [
    "### Signature generation for test input"
   ]
  },
  {
   "cell_type": "code",
   "execution_count": 16,
   "id": "30047523",
   "metadata": {
    "scrolled": true
   },
   "outputs": [
    {
     "name": "stdout",
     "output_type": "stream",
     "text": [
      "ac47ef1b79fd51f50892cc667e82aaa2bf4207e73d24647092da26fc377b17f2  - Image 1\n",
      "1ac6619cc95ae19b6e4c3ccf192fb65606fd79138499ded3f9c043bb27ca8947  - Image 2\n",
      "2d39bf738a5db12e78698f7fd3ae847e9f256ad31bc717523d9e5bba2eade7c9  - Image 3\n",
      "af05309a4f1b49c4f4901df39f5d00fdd20ce45b8eea612348971a002cb06395  - Image 4\n",
      "63474e58e3c4932c56282a81a973f1f1d43fac18158c2244e530b523a2f2c30b  - Image 5\n"
     ]
    }
   ],
   "source": [
    "test_fn = dataset('dataset/test_input/')\n",
    "n = len(test_fn)\n",
    "test_output = fit_output(test_fn,n)"
   ]
  },
  {
   "cell_type": "markdown",
   "id": "b28b24f9",
   "metadata": {},
   "source": [
    "### Lookup operation for created signature database with test input"
   ]
  },
  {
   "cell_type": "code",
   "execution_count": 17,
   "id": "ea4c4e68",
   "metadata": {
    "scrolled": true
   },
   "outputs": [
    {
     "name": "stdout",
     "output_type": "stream",
     "text": [
      "image does not exist\n",
      "image does not exist\n",
      "image does not exist\n",
      "complete image\n",
      "its signature\n",
      "image exist\n",
      "complete image\n",
      "its signature\n",
      "image exist\n"
     ]
    }
   ],
   "source": [
    "store_file = []\n",
    "for i in test_output:\n",
    "    if(i in output):\n",
    "        print(\"complete image\")\n",
    "        print(\"its signature\")\n",
    "        print(\"image exist\")\n",
    "        store_file.append(\"complete image\\nits signature\\nimage exist\")\n",
    "    else:\n",
    "        print(\"image does not exist\")\n",
    "        store_file.append(\"image does not exist\")"
   ]
  },
  {
   "cell_type": "markdown",
   "id": "9b0a39bc",
   "metadata": {},
   "source": [
    "### Storing the output of lookup operation on the output file"
   ]
  },
  {
   "cell_type": "code",
   "execution_count": 18,
   "id": "fe8eb0e4",
   "metadata": {
    "scrolled": true
   },
   "outputs": [],
   "source": [
    "def create_file(txtfile,text):\n",
    "    output_file = open(txtfile, 'w')\n",
    "    output_file.write(text)\n",
    "    output_file.close()\n",
    "\n",
    "create_file('testcase1.txt',store_file[0])\n",
    "create_file('testcase2.txt',store_file[1])\n",
    "create_file('testcase3.txt',store_file[2])\n",
    "create_file('testcase4.txt',store_file[3])\n",
    "create_file('testcase5.txt',store_file[4])"
   ]
  }
 ],
 "metadata": {
  "kernelspec": {
   "display_name": "Python (Python 3.8.10)",
   "language": "python",
   "name": "py371"
  },
  "language_info": {
   "codemirror_mode": {
    "name": "ipython",
    "version": 3
   },
   "file_extension": ".py",
   "mimetype": "text/x-python",
   "name": "python",
   "nbconvert_exporter": "python",
   "pygments_lexer": "ipython3",
   "version": "3.8.10"
  }
 },
 "nbformat": 4,
 "nbformat_minor": 5
}
