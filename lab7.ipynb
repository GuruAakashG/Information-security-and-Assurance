{
 "cells": [
  {
   "cell_type": "markdown",
   "id": "7f1a89bf",
   "metadata": {},
   "source": [
    "Name : Guru Aakash G"
   ]
  },
  {
   "cell_type": "markdown",
   "id": "ea78c68d",
   "metadata": {},
   "source": [
    "Roll number : 191IT220"
   ]
  },
  {
   "cell_type": "markdown",
   "id": "839806cd",
   "metadata": {},
   "source": [
    "Subject : IT352 - Information Assurance and Security"
   ]
  },
  {
   "cell_type": "markdown",
   "id": "94bbdc3b",
   "metadata": {},
   "source": [
    "Date : 25-03-2022"
   ]
  },
  {
   "cell_type": "markdown",
   "id": "2c839645",
   "metadata": {},
   "source": [
    "Topic : Implement Data Pseudorandom Function (PRF) of the TLS protocol"
   ]
  },
  {
   "cell_type": "markdown",
   "id": "88f9e83a",
   "metadata": {},
   "source": [
    "## Function"
   ]
  },
  {
   "cell_type": "code",
   "execution_count": 1,
   "id": "63f1f384",
   "metadata": {},
   "outputs": [],
   "source": [
    "import secrets\n",
    "import hashlib\n",
    "import hmac\n",
    "import os"
   ]
  },
  {
   "cell_type": "code",
   "execution_count": 2,
   "id": "9abde93a",
   "metadata": {},
   "outputs": [],
   "source": [
    "def md5_data_expansion_function(label_seed,half_secret):\n",
    "    HMAC = label_seed\n",
    "    expanded_secret = bytes()\n",
    "    for i in range(0,2):\n",
    "        HMAC = hmac.new(HMAC,half_secret,hashlib.md5).digest()\n",
    "        expanded_secret = expanded_secret + hmac.new(HMAC + label_seed,half_secret,hashlib.md5).digest()\n",
    "    \n",
    "    return expanded_secret # 32 bytes\n",
    "\n",
    "def sha_data_expansion_function(label_seed,half_secret):\n",
    "    HMAC = label_seed\n",
    "    expanded_secret = bytes()\n",
    "    for i in range(0,2):\n",
    "        HMAC = hmac.new(HMAC,half_secret,hashlib.sha1).digest()\n",
    "        expanded_secret = expanded_secret + hmac.new(HMAC + label_seed,half_secret,hashlib.sha1).digest()\n",
    "    \n",
    "    return expanded_secret # 32 bytes\n",
    "\n",
    "def prf(label_seed, secret):\n",
    "    \n",
    "    md5_expanded_secret = md5_data_expansion_function(label_seed,secret[0:len(secret)//2])\n",
    "    sha_expanded_secret = sha_data_expansion_function(label_seed,secret[(len(secret)//2):len(secret)])    \n",
    "    \n",
    "    # md5_expanded_secret XOR sha_expanded_secret\n",
    "    md5_xor_sha1 = int.from_bytes(md5_expanded_secret,\"big\") ^ int.from_bytes(sha_expanded_secret,\"big\")\n",
    "    \n",
    "    output = \"New Secrete is = \" + str(md5_xor_sha1)\n",
    "    print(output)\n",
    "    \n",
    "    return output"
   ]
  },
  {
   "cell_type": "code",
   "execution_count": 3,
   "id": "9c2e8e29",
   "metadata": {},
   "outputs": [],
   "source": [
    "def get_input():\n",
    "    \n",
    "    label = bytes(\"LABEL\", 'utf-8')\n",
    "    seed = os.urandom(32)\n",
    "    secret = input(\"Enter the secret value : \")\n",
    "    \n",
    "    return prf(label+seed, secret.encode())"
   ]
  },
  {
   "cell_type": "markdown",
   "id": "1f3a9ee8",
   "metadata": {},
   "source": [
    "# Sample Testcases"
   ]
  },
  {
   "cell_type": "markdown",
   "id": "b4cb3729",
   "metadata": {},
   "source": [
    "### Sample Testcase 1"
   ]
  },
  {
   "cell_type": "code",
   "execution_count": 4,
   "id": "f7e44611",
   "metadata": {},
   "outputs": [
    {
     "name": "stdout",
     "output_type": "stream",
     "text": [
      "Enter the secret value : 123456789123456789\n",
      "New Secrete is = 1370685568635702285972381766230114322776842481575398103417630853761839050960479490724817065737193\n"
     ]
    }
   ],
   "source": [
    "output = get_input()"
   ]
  },
  {
   "cell_type": "markdown",
   "id": "dd9b116c",
   "metadata": {},
   "source": [
    "### Sample Testcase 2"
   ]
  },
  {
   "cell_type": "code",
   "execution_count": 5,
   "id": "ea232a90",
   "metadata": {},
   "outputs": [
    {
     "name": "stdout",
     "output_type": "stream",
     "text": [
      "Enter the secret value : 987654321987654321\n",
      "New Secrete is = 800565881254833206126495845301537879441641123694314638959513601850954987011247966547962636281579\n"
     ]
    }
   ],
   "source": [
    "output = get_input()"
   ]
  },
  {
   "cell_type": "markdown",
   "id": "3db30fe9",
   "metadata": {},
   "source": [
    "# Testcases"
   ]
  },
  {
   "cell_type": "markdown",
   "id": "34e3e5b6",
   "metadata": {},
   "source": [
    "### Storing in file"
   ]
  },
  {
   "cell_type": "code",
   "execution_count": 6,
   "id": "4ed34e61",
   "metadata": {},
   "outputs": [],
   "source": [
    "def store_output_file(filename,output):\n",
    "    file = open(filename,\"w\")\n",
    "    file.writelines(str(output))\n",
    "    file.close()"
   ]
  },
  {
   "cell_type": "markdown",
   "id": "c0e9bbc1",
   "metadata": {},
   "source": [
    "### Testcase 1"
   ]
  },
  {
   "cell_type": "code",
   "execution_count": 7,
   "id": "d9490a95",
   "metadata": {},
   "outputs": [
    {
     "name": "stdout",
     "output_type": "stream",
     "text": [
      "Enter the secret value : 123451234512345123\n",
      "New Secrete is = 1978236890500584777247019063037454815472654847167882639775659548559297229748090373547160882880153\n"
     ]
    }
   ],
   "source": [
    "output = get_input()\n",
    "store_output_file(\"191IT220_IT352_P7_Output_TC1.txt\",output)"
   ]
  },
  {
   "cell_type": "markdown",
   "id": "08c74580",
   "metadata": {},
   "source": [
    "### Testcase 2"
   ]
  },
  {
   "cell_type": "code",
   "execution_count": 8,
   "id": "75ae5caa",
   "metadata": {},
   "outputs": [
    {
     "name": "stdout",
     "output_type": "stream",
     "text": [
      "Enter the secret value : 543215432154321543\n",
      "New Secrete is = 630616913128537430521726602943434389290000086819422402283021998026682195606092605385876104127566\n"
     ]
    }
   ],
   "source": [
    "output = get_input()\n",
    "store_output_file(\"191IT220_IT352_P7_Output_TC2.txt\",output)"
   ]
  },
  {
   "cell_type": "markdown",
   "id": "59f641a6",
   "metadata": {},
   "source": [
    "### Testcase 3"
   ]
  },
  {
   "cell_type": "code",
   "execution_count": 9,
   "id": "050abf7b",
   "metadata": {},
   "outputs": [
    {
     "name": "stdout",
     "output_type": "stream",
     "text": [
      "Enter the secret value : 567895678956789000\n",
      "New Secrete is = 728988309163410883971478930689704107261045495514591609436808248010568993556008757926369240155171\n"
     ]
    }
   ],
   "source": [
    "output = get_input()\n",
    "store_output_file(\"191IT220_IT352_P7_Output_TC3.txt\",output)"
   ]
  },
  {
   "cell_type": "markdown",
   "id": "14f8f674",
   "metadata": {},
   "source": [
    "### Testcase 4"
   ]
  },
  {
   "cell_type": "code",
   "execution_count": 10,
   "id": "9e2e4b5b",
   "metadata": {},
   "outputs": [
    {
     "name": "stdout",
     "output_type": "stream",
     "text": [
      "Enter the secret value : 222222222222222222\n",
      "New Secrete is = 1163368299704315305947774659478976680427662873528091702706021497426143597622226943833535461480365\n"
     ]
    }
   ],
   "source": [
    "output = get_input()\n",
    "store_output_file(\"191IT220_IT352_P7_Output_TC4.txt\",output)"
   ]
  },
  {
   "cell_type": "markdown",
   "id": "dfff9f30",
   "metadata": {},
   "source": [
    "### Testcase 5"
   ]
  },
  {
   "cell_type": "code",
   "execution_count": 11,
   "id": "63b78f48",
   "metadata": {},
   "outputs": [
    {
     "name": "stdout",
     "output_type": "stream",
     "text": [
      "Enter the secret value : 333333333333333333\n",
      "New Secrete is = 1020508261207891853916070629397147282348822295860067761504567638404111005569388670959022992293755\n"
     ]
    }
   ],
   "source": [
    "output = get_input()\n",
    "store_output_file(\"191IT220_IT352_P7_Output_TC5.txt\",output)"
   ]
  },
  {
   "cell_type": "markdown",
   "id": "19848c09",
   "metadata": {},
   "source": [
    "### Testcase 6"
   ]
  },
  {
   "cell_type": "code",
   "execution_count": 12,
   "id": "024f2706",
   "metadata": {},
   "outputs": [
    {
     "name": "stdout",
     "output_type": "stream",
     "text": [
      "Enter the secret value : 110000000000000011\n",
      "New Secrete is = 725560919131179921680161348882045805986282110069092052049640988856217267023554488530975997454445\n"
     ]
    }
   ],
   "source": [
    "output = get_input()\n",
    "store_output_file(\"191IT220_IT352_P7_Output_TC6.txt\",output)"
   ]
  }
 ],
 "metadata": {
  "kernelspec": {
   "display_name": "Python (Python 3.8.10)",
   "language": "python",
   "name": "py371"
  },
  "language_info": {
   "codemirror_mode": {
    "name": "ipython",
    "version": 3
   },
   "file_extension": ".py",
   "mimetype": "text/x-python",
   "name": "python",
   "nbconvert_exporter": "python",
   "pygments_lexer": "ipython3",
   "version": "3.8.10"
  }
 },
 "nbformat": 4,
 "nbformat_minor": 5
}
