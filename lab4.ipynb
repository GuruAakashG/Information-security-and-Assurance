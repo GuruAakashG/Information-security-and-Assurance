{
 "cells": [
  {
   "cell_type": "markdown",
   "id": "7f1a89bf",
   "metadata": {},
   "source": [
    "Name : Guru Aakash G"
   ]
  },
  {
   "cell_type": "markdown",
   "id": "ea78c68d",
   "metadata": {},
   "source": [
    "Roll number : 191IT220"
   ]
  },
  {
   "cell_type": "markdown",
   "id": "839806cd",
   "metadata": {},
   "source": [
    "Subject : IT352 - Information Assurance and Security"
   ]
  },
  {
   "cell_type": "markdown",
   "id": "94bbdc3b",
   "metadata": {},
   "source": [
    "Date : 26-02-2022"
   ]
  },
  {
   "cell_type": "markdown",
   "id": "2c839645",
   "metadata": {},
   "source": [
    "Topic : Rail Fence Technique"
   ]
  },
  {
   "cell_type": "markdown",
   "id": "88f9e83a",
   "metadata": {},
   "source": [
    "### Function"
   ]
  },
  {
   "cell_type": "markdown",
   "id": "6f03b874",
   "metadata": {},
   "source": [
    "Non-alphabetic characters are basically any character that is not a number or letter."
   ]
  },
  {
   "cell_type": "code",
   "execution_count": 1,
   "id": "9abde93a",
   "metadata": {},
   "outputs": [],
   "source": [
    "def encryption(plain_text,key):\n",
    "    n = len(plain_text)\n",
    "    \n",
    "    encrypt = [[\"!\" for i in range(0,n)] for j in range(0,key)]\n",
    "            \n",
    "    direction = False\n",
    "    row = 0\n",
    "    col = 0\n",
    "    \n",
    "    for i in range(0,n):\n",
    "        if(row==0 or row==key-1):\n",
    "            direction = not direction\n",
    "        encrypt[row][col] = plain_text[i]\n",
    "        col = col + 1\n",
    "        if direction:\n",
    "            row = row + 1\n",
    "        else:\n",
    "            row = row - 1\n",
    "    \n",
    "    e_text = []\n",
    "    for i in range(0,key):\n",
    "        for j in range(0,n):\n",
    "            if encrypt[i][j] != \"!\":\n",
    "                e_text.append(encrypt[i][j])\n",
    "    \n",
    "    return \"\".join(e_text)"
   ]
  },
  {
   "cell_type": "code",
   "execution_count": 2,
   "id": "0438b702",
   "metadata": {},
   "outputs": [],
   "source": [
    "def decryption(cipher_text,key):\n",
    "    n = len(cipher_text)\n",
    "    \n",
    "    decrypt = [[\"!\" for i in range(0,n)] for j in range(0,key)]\n",
    "            \n",
    "    direction = None\n",
    "    row = 0\n",
    "    col = 0\n",
    "    \n",
    "    for i in range(0,n):\n",
    "        if(row==0):\n",
    "            direction = True\n",
    "        if(row==key-1):\n",
    "            direction = False\n",
    "    \n",
    "        decrypt[row][col] = '/'\n",
    "        col = col + 1\n",
    "        \n",
    "        if(direction):\n",
    "            row = row + 1\n",
    "        else:\n",
    "            row = row - 1\n",
    "    \n",
    "    index = 0\n",
    "    for i in range(0,key):\n",
    "        for j in range(0,n):\n",
    "            if((decrypt[i][j] == '/') and (index < n)):\n",
    "                decrypt[i][j] = cipher_text[index]\n",
    "                index += 1\n",
    "    \n",
    "    d_text = []\n",
    "    row = 0\n",
    "    col = 0\n",
    "\n",
    "    for i in range(0,n):\n",
    "        if row == 0:\n",
    "            direction = True\n",
    "        if row == key-1:\n",
    "            direction = False\n",
    "             \n",
    "        if (decrypt[row][col] != '/'):\n",
    "            d_text.append(decrypt[row][col])\n",
    "            col = col + 1\n",
    "             \n",
    "        if(direction):\n",
    "            row = row + 1\n",
    "        else:\n",
    "            row = row - 1\n",
    "    \n",
    "    return(\"\".join(d_text))"
   ]
  },
  {
   "cell_type": "code",
   "execution_count": 13,
   "id": "6ba14cd0",
   "metadata": {},
   "outputs": [],
   "source": [
    "def remove_spaces(text):\n",
    "    s = \"\"\n",
    "    for i in text:\n",
    "        if(i!=\" \"):\n",
    "            s = s + i\n",
    "    return s\n",
    "\n",
    "def rail_fence_technique_output(plain_text,key):\n",
    "    plain_text = remove_spaces(plain_text)\n",
    "    if(plain_text.isalnum()):                                # check for alphanumeric characters\n",
    "        cipher_text = encryption(plain_text,key)\n",
    "        output = \"Plain Text = \"+plain_text+\"\\tEncrypted text = \"+cipher_text\n",
    "        output = output + \"\\nCipher Text = \"+cipher_text+\"\\tDecrypted text = \"+decryption(cipher_text,key)s        \n",
    "    else:\n",
    "        output = \"Error message : Your plain text should not contain any non-alphabet character\"\n",
    "    \n",
    "    return output"
   ]
  },
  {
   "cell_type": "markdown",
   "id": "1f3a9ee8",
   "metadata": {},
   "source": [
    "# Sample Testcases"
   ]
  },
  {
   "cell_type": "markdown",
   "id": "b4cb3729",
   "metadata": {},
   "source": [
    "### Sample Testcase 1"
   ]
  },
  {
   "cell_type": "code",
   "execution_count": 4,
   "id": "f7e44611",
   "metadata": {},
   "outputs": [
    {
     "name": "stdout",
     "output_type": "stream",
     "text": [
      "Enter the plain text = nitk surathkal mangalore\n",
      "Enter the key value = 2\n",
      "Plain Text = nitksurathkalmangalore\tEncrypted text = ntsrtklaglrikuahamnaoe\n",
      "Cipher Text = ntsrtklaglrikuahamnaoe\tDecrypted text = nitksurathkalmangalore\n"
     ]
    }
   ],
   "source": [
    "output = rail_fence_technique_output(input(\"Enter the plain text = \"),int(input(\"Enter the key value = \")))\n",
    "print(output)"
   ]
  },
  {
   "cell_type": "markdown",
   "id": "dd9b116c",
   "metadata": {},
   "source": [
    "### Sample Testcase 2"
   ]
  },
  {
   "cell_type": "code",
   "execution_count": 5,
   "id": "ea232a90",
   "metadata": {},
   "outputs": [
    {
     "name": "stdout",
     "output_type": "stream",
     "text": [
      "Enter the plain text = Surathkal-575025\n",
      "Enter the key value = 2\n",
      "Error message : Your plain text should not contain any non-alphabet character\n"
     ]
    }
   ],
   "source": [
    "output = rail_fence_technique_output(input(\"Enter the plain text = \"),int(input(\"Enter the key value = \")))\n",
    "print(output)"
   ]
  },
  {
   "cell_type": "markdown",
   "id": "3db30fe9",
   "metadata": {},
   "source": [
    "# Testcases"
   ]
  },
  {
   "cell_type": "markdown",
   "id": "34e3e5b6",
   "metadata": {},
   "source": [
    "### Storing in file"
   ]
  },
  {
   "cell_type": "code",
   "execution_count": 6,
   "id": "4ed34e61",
   "metadata": {},
   "outputs": [],
   "source": [
    "def store_output_file(filename,output):\n",
    "    file = open(filename,\"w\")\n",
    "    file.writelines(output)\n",
    "    file.close()"
   ]
  },
  {
   "cell_type": "markdown",
   "id": "c0e9bbc1",
   "metadata": {},
   "source": [
    "### Testcase 1"
   ]
  },
  {
   "cell_type": "code",
   "execution_count": 7,
   "id": "d9490a95",
   "metadata": {},
   "outputs": [
    {
     "name": "stdout",
     "output_type": "stream",
     "text": [
      "Enter the plain text = capital city of karnataka\n",
      "Enter the key value = 2\n",
      "Plain Text = capitalcityofkarnataka\tEncrypted text = cptliyfantkaiactokraaa\n",
      "Cipher Text = cptliyfantkaiactokraaa\tDecrypted text = capitalcityofkarnataka\n"
     ]
    }
   ],
   "source": [
    "output = rail_fence_technique_output(input(\"Enter the plain text = \"),int(input(\"Enter the key value = \")))\n",
    "print(output)\n",
    "store_output_file(\"191IT220_IT352_P4_Output_TC1.txt\",output)"
   ]
  },
  {
   "cell_type": "markdown",
   "id": "08c74580",
   "metadata": {},
   "source": [
    "### Testcase 2"
   ]
  },
  {
   "cell_type": "code",
   "execution_count": 8,
   "id": "75ae5caa",
   "metadata": {},
   "outputs": [
    {
     "name": "stdout",
     "output_type": "stream",
     "text": [
      "Enter the plain text = tamilnadu state\n",
      "Enter the key value = 2\n",
      "Plain Text = tamilnadustate\tEncrypted text = tmlauttaindsae\n",
      "Cipher Text = tmlauttaindsae\tDecrypted text = tamilnadustate\n"
     ]
    }
   ],
   "source": [
    "output = rail_fence_technique_output(input(\"Enter the plain text = \"),int(input(\"Enter the key value = \")))\n",
    "print(output)\n",
    "store_output_file(\"191IT220_IT352_P4_Output_TC2.txt\",output)"
   ]
  },
  {
   "cell_type": "markdown",
   "id": "59f641a6",
   "metadata": {},
   "source": [
    "### Testcase 3"
   ]
  },
  {
   "cell_type": "code",
   "execution_count": 9,
   "id": "050abf7b",
   "metadata": {},
   "outputs": [
    {
     "name": "stdout",
     "output_type": "stream",
     "text": [
      "Enter the plain text = ransomware attack\n",
      "Enter the key value = 2\n",
      "Plain Text = ransomwareattack\tEncrypted text = rnowratcasmaetak\n",
      "Cipher Text = rnowratcasmaetak\tDecrypted text = ransomwareattack\n"
     ]
    }
   ],
   "source": [
    "output = rail_fence_technique_output(input(\"Enter the plain text = \"),int(input(\"Enter the key value = \")))\n",
    "print(output)\n",
    "store_output_file(\"191IT220_IT352_P4_Output_TC3.txt\",output)"
   ]
  },
  {
   "cell_type": "markdown",
   "id": "14f8f674",
   "metadata": {},
   "source": [
    "### Testcase 4"
   ]
  },
  {
   "cell_type": "code",
   "execution_count": 10,
   "id": "9e2e4b5b",
   "metadata": {},
   "outputs": [
    {
     "name": "stdout",
     "output_type": "stream",
     "text": [
      "Enter the plain text = password guessing attack\n",
      "Enter the key value = 2\n",
      "Plain Text = passwordguessingattack\tEncrypted text = pswrgesnatcasodusigtak\n",
      "Cipher Text = pswrgesnatcasodusigtak\tDecrypted text = passwordguessingattack\n"
     ]
    }
   ],
   "source": [
    "output = rail_fence_technique_output(input(\"Enter the plain text = \"),int(input(\"Enter the key value = \")))\n",
    "print(output)\n",
    "store_output_file(\"191IT220_IT352_P4_Output_TC4.txt\",output)"
   ]
  },
  {
   "cell_type": "markdown",
   "id": "dfff9f30",
   "metadata": {},
   "source": [
    "### Testcase 5"
   ]
  },
  {
   "cell_type": "code",
   "execution_count": 11,
   "id": "63b78f48",
   "metadata": {},
   "outputs": [
    {
     "name": "stdout",
     "output_type": "stream",
     "text": [
      "Enter the plain text = cyber security\n",
      "Enter the key value = 2\n",
      "Plain Text = cybersecurity\tEncrypted text = cbreuiyyescrt\n",
      "Cipher Text = cbreuiyyescrt\tDecrypted text = cybersecurity\n"
     ]
    }
   ],
   "source": [
    "output = rail_fence_technique_output(input(\"Enter the plain text = \"),int(input(\"Enter the key value = \")))\n",
    "print(output)\n",
    "store_output_file(\"191IT220_IT352_P4_Output_TC5.txt\",output)"
   ]
  },
  {
   "cell_type": "markdown",
   "id": "19848c09",
   "metadata": {},
   "source": [
    "### Testcase 6"
   ]
  },
  {
   "cell_type": "code",
   "execution_count": 12,
   "id": "024f2706",
   "metadata": {},
   "outputs": [
    {
     "name": "stdout",
     "output_type": "stream",
     "text": [
      "Enter the plain text = distributed denial service attack\n",
      "Enter the key value = 2\n",
      "Plain Text = distributeddenialserviceattack\tEncrypted text = dsrbtdeilevcatcitiuednasrietak\n",
      "Cipher Text = dsrbtdeilevcatcitiuednasrietak\tDecrypted text = distributeddenialserviceattack\n"
     ]
    }
   ],
   "source": [
    "output = rail_fence_technique_output(input(\"Enter the plain text = \"),int(input(\"Enter the key value = \")))\n",
    "print(output)\n",
    "store_output_file(\"191IT220_IT352_P4_Output_TC6.txt\",output)"
   ]
  }
 ],
 "metadata": {
  "kernelspec": {
   "display_name": "Python (Python 3.8.10)",
   "language": "python",
   "name": "py371"
  },
  "language_info": {
   "codemirror_mode": {
    "name": "ipython",
    "version": 3
   },
   "file_extension": ".py",
   "mimetype": "text/x-python",
   "name": "python",
   "nbconvert_exporter": "python",
   "pygments_lexer": "ipython3",
   "version": "3.8.10"
  }
 },
 "nbformat": 4,
 "nbformat_minor": 5
}
