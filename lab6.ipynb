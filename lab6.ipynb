{
 "cells": [
  {
   "cell_type": "markdown",
   "id": "7f1a89bf",
   "metadata": {},
   "source": [
    "Name : Guru Aakash G"
   ]
  },
  {
   "cell_type": "markdown",
   "id": "ea78c68d",
   "metadata": {},
   "source": [
    "Roll number : 191IT220"
   ]
  },
  {
   "cell_type": "markdown",
   "id": "839806cd",
   "metadata": {},
   "source": [
    "Subject : IT352 - Information Assurance and Security"
   ]
  },
  {
   "cell_type": "markdown",
   "id": "94bbdc3b",
   "metadata": {},
   "source": [
    "Date : 18-03-2022"
   ]
  },
  {
   "cell_type": "markdown",
   "id": "2c839645",
   "metadata": {},
   "source": [
    "Topic : Implement Cipher Feedback (CFB) mode of data transmission with Hill Cipher as cryptosystem"
   ]
  },
  {
   "cell_type": "markdown",
   "id": "88f9e83a",
   "metadata": {},
   "source": [
    "## Function"
   ]
  },
  {
   "cell_type": "code",
   "execution_count": 1,
   "id": "9abde93a",
   "metadata": {},
   "outputs": [],
   "source": [
    "import numpy as np\n",
    "\n",
    "n = 255\n",
    "\n",
    "def store_output_file(filename,output):\n",
    "    file = open(filename,\"w\")\n",
    "    file.writelines(output)\n",
    "    file.close()\n",
    "    \n",
    "def store_ascii_values(plain_text):\n",
    "    print(\"ASCII values of plain_text :\")\n",
    "    ascii_values = []\n",
    "    for i in plain_text:\n",
    "        ascii_values.append(str(ord(i))+\" \")\n",
    "    print(ascii_values)\n",
    "    \n",
    "    return ascii_values\n",
    "\n",
    "def key_inverse_not_exist(key):\n",
    "    try:\n",
    "        inv = np.linalg.inv(np.array(key))\n",
    "        return False\n",
    "    except:\n",
    "        return True\n",
    "\n",
    "def encrypt(iv,key):\n",
    "    e_iv = np.dot(iv,key)\n",
    "    e_iv[0][0] = int(e_iv[0][0])%n\n",
    "    e_iv[0][1] = int(e_iv[0][1])%n\n",
    "    e_iv[1][0] = int(e_iv[1][0])%n\n",
    "    e_iv[1][1] = int(e_iv[1][1])%n\n",
    "    \n",
    "    return e_iv\n",
    "\n",
    "def convert_string_to_ascii_text_matrix(text):    \n",
    "    return [[ord(text[0])%n,ord(text[1])%n],[ord(text[2])%n,ord(text[3])%n]]\n",
    "\n",
    "def xor(m1,m2):\n",
    "    return [[(m1[0][0]^m2[0][0])%n,(m1[0][1]^m2[0][1])%n],[(m1[1][0]^m2[1][0])%n,(m1[1][1]^m2[1][1])%n]]\n",
    "\n",
    "def convert_ascii_text_matrix_to_string(text_matrix):\n",
    "    return chr(text_matrix[0][0]) + chr(text_matrix[0][1]) + chr(text_matrix[1][0]) + chr(text_matrix[1][1])"
   ]
  },
  {
   "cell_type": "code",
   "execution_count": 2,
   "id": "9c2e8e29",
   "metadata": {},
   "outputs": [],
   "source": [
    "def encryption(plain_text,key,iv):\n",
    "    \n",
    "    cipher_matrix = []\n",
    "    for i in range(0,len(plain_text),4):\n",
    "        if(i==0):\n",
    "            encrypt_iv = encrypt(iv,key)\n",
    "        else:\n",
    "            encrypt_iv = encrypt(cipher_matrix[len(cipher_matrix)-1],key)         \n",
    "        \n",
    "        cipher_matrix.append(xor(convert_string_to_ascii_text_matrix(plain_text[i:i+4]),encrypt_iv))\n",
    "    \n",
    "    #print(\"Cipher text matrix =\",cipher_matrix)    \n",
    "    cipher_text = \"\"  \n",
    "    for i in cipher_matrix:\n",
    "        cipher_text = cipher_text + convert_ascii_text_matrix_to_string(i)\n",
    "    \n",
    "    return cipher_text\n",
    "\n",
    "def decryption(cipher_text,key,iv):\n",
    "    \n",
    "    plain_text_matrix = []\n",
    "    for i in range(0,len(cipher_text),4):\n",
    "        if(i==0):\n",
    "            encrypt_iv = encrypt(iv,key)\n",
    "        else:\n",
    "            encrypt_iv = encrypt(convert_string_to_ascii_text_matrix(cipher_text[i-4:i]),key)\n",
    "        \n",
    "        plain_text_matrix.append(xor(convert_string_to_ascii_text_matrix(cipher_text[i:i+4]),encrypt_iv))\n",
    "    \n",
    "    #print(\"Plain text matrix =\",plain_text_matrix)    \n",
    "    plain_text = \"\"\n",
    "    for i in plain_text_matrix:\n",
    "        plain_text = plain_text + convert_ascii_text_matrix_to_string(i)\n",
    "    \n",
    "    return plain_text\n",
    "\n",
    "def process(plain_text,key,iv):\n",
    "    \n",
    "    output = store_ascii_values(plain_text)\n",
    "    \n",
    "    if(key_inverse_not_exist(key)):\n",
    "        output.append(\"Key-inverse does not exist\")\n",
    "        print(\"\\nKey-inverse does not exist\")\n",
    "        return output\n",
    "        \n",
    "    n = len(plain_text)%4\n",
    "    if(n!=0):\n",
    "        for i in range(0,4-n):\n",
    "            plain_text = plain_text + '#'\n",
    "    \n",
    "    cipher_text = encryption(plain_text,key,iv)\n",
    "    print(\"\\nAfter Encryption :\")\n",
    "    print(\"Plain text =\",plain_text,\"\\tCipher text =\",cipher_text)\n",
    "    output.append(str(\"\\nPlain text =\"+plain_text+\"\\tCipher text =\"+cipher_text))\n",
    "    decrypt_text = decryption(cipher_text,key,iv)\n",
    "    print(\"\\nAfter Decryption :\")\n",
    "    print(\"Cipher text =\",cipher_text,\"\\tDecrypted text =\",decrypt_text)\n",
    "    output.append(str(\"\\nCipher text =\"+cipher_text+\"\\tDecrypted text =\"+decrypt_text))\n",
    "    \n",
    "    return output"
   ]
  },
  {
   "cell_type": "code",
   "execution_count": 3,
   "id": "3abf76bc",
   "metadata": {},
   "outputs": [],
   "source": [
    "def get_input():\n",
    "    \n",
    "    plain_text = input(\"Enter the plain text : \")\n",
    "    print(\"\\nEnter the key value in the form of 2X2 matrix :\")\n",
    "    key = [[0,0],[0,0]]\n",
    "    key[0][0] = int(input(\"key[0][0] = \"))\n",
    "    key[0][1] = int(input(\"key[0][1] = \"))\n",
    "    key[1][0] = int(input(\"key[1][0] = \"))\n",
    "    key[1][1] = int(input(\"key[1][1] = \"))\n",
    "    print(\"\\nEnter the IV value in the form of 2X2 matrix :\")\n",
    "    iv = [[0,0],[0,0]]\n",
    "    iv[0][0] = int(input(\"iv[0][0] = \"))\n",
    "    iv[0][1] = int(input(\"iv[0][1] = \"))\n",
    "    iv[1][0] = int(input(\"iv[1][0] = \"))\n",
    "    iv[1][1] = int(input(\"iv[1][1] = \"))\n",
    "    \n",
    "    print(\"\\nOutput :\\n\")\n",
    "    return plain_text,key,iv "
   ]
  },
  {
   "cell_type": "markdown",
   "id": "1f3a9ee8",
   "metadata": {},
   "source": [
    "# Sample Testcases"
   ]
  },
  {
   "cell_type": "markdown",
   "id": "b4cb3729",
   "metadata": {},
   "source": [
    "### Sample Testcase 1"
   ]
  },
  {
   "cell_type": "code",
   "execution_count": 4,
   "id": "f7e44611",
   "metadata": {},
   "outputs": [
    {
     "name": "stdout",
     "output_type": "stream",
     "text": [
      "Enter the plain text : Phishing\n",
      "\n",
      "Enter the key value in the form of 2X2 matrix :\n",
      "key[0][0] = 2\n",
      "key[0][1] = 3\n",
      "key[1][0] = 4\n",
      "key[1][1] = 5\n",
      "\n",
      "Enter the IV value in the form of 2X2 matrix :\n",
      "iv[0][0] = 4\n",
      "iv[0][1] = 5\n",
      "iv[1][0] = 6\n",
      "iv[1][1] = 7\n",
      "\n",
      "Output :\n",
      "\n",
      "ASCII values of plain_text :\n",
      "['80 ', '104 ', '105 ', '115 ', '104 ', '105 ', '110 ', '103 ']\n",
      "\n",
      "After Encryption :\n",
      "Plain text = Phishing \tCipher text = LMAF¥\u000eõD\n",
      "\n",
      "After Decryption :\n",
      "Cipher text = LMAF¥\u000eõD \tDecrypted text = Phishing\n"
     ]
    }
   ],
   "source": [
    "plain_text,key,iv = get_input()\n",
    "output = process(plain_text,key,iv)"
   ]
  },
  {
   "cell_type": "markdown",
   "id": "dd9b116c",
   "metadata": {},
   "source": [
    "### Sample Testcase 2"
   ]
  },
  {
   "cell_type": "code",
   "execution_count": 5,
   "id": "ea232a90",
   "metadata": {},
   "outputs": [
    {
     "name": "stdout",
     "output_type": "stream",
     "text": [
      "Enter the plain text : SBINITKS\n",
      "\n",
      "Enter the key value in the form of 2X2 matrix :\n",
      "key[0][0] = 3\n",
      "key[0][1] = 3\n",
      "key[1][0] = 4\n",
      "key[1][1] = 4\n",
      "\n",
      "Enter the IV value in the form of 2X2 matrix :\n",
      "iv[0][0] = 3\n",
      "iv[0][1] = 8\n",
      "iv[1][0] = 3\n",
      "iv[1][1] = 7\n",
      "\n",
      "Output :\n",
      "\n",
      "ASCII values of plain_text :\n",
      "['83 ', '66 ', '73 ', '78 ', '73 ', '84 ', '75 ', '83 ']\n",
      "\n",
      "Key-inverse does not exist\n"
     ]
    }
   ],
   "source": [
    "plain_text,key,iv = get_input()\n",
    "output = process(plain_text,key,iv)"
   ]
  },
  {
   "cell_type": "markdown",
   "id": "3db30fe9",
   "metadata": {},
   "source": [
    "# Testcases"
   ]
  },
  {
   "cell_type": "markdown",
   "id": "34e3e5b6",
   "metadata": {},
   "source": [
    "### Storing in file"
   ]
  },
  {
   "cell_type": "code",
   "execution_count": 6,
   "id": "4ed34e61",
   "metadata": {},
   "outputs": [],
   "source": [
    "def store_output_file(filename,output):\n",
    "    with open(filename, \"w\", encoding=\"utf-8\") as f:\n",
    "        for i in output:\n",
    "            f.write(i)"
   ]
  },
  {
   "cell_type": "markdown",
   "id": "c0e9bbc1",
   "metadata": {},
   "source": [
    "### Testcase 1"
   ]
  },
  {
   "cell_type": "code",
   "execution_count": 7,
   "id": "d9490a95",
   "metadata": {},
   "outputs": [
    {
     "name": "stdout",
     "output_type": "stream",
     "text": [
      "Enter the plain text : decrease\n",
      "\n",
      "Enter the key value in the form of 2X2 matrix :\n",
      "key[0][0] = 14\n",
      "key[0][1] = 13\n",
      "key[1][0] = 14\n",
      "key[1][1] = 15\n",
      "\n",
      "Enter the IV value in the form of 2X2 matrix :\n",
      "iv[0][0] = 14\n",
      "iv[0][1] = 5\n",
      "iv[1][0] = 5\n",
      "iv[1][1] = 8\n",
      "\n",
      "Output :\n",
      "\n",
      "ASCII values of plain_text :\n",
      "['100 ', '101 ', '99 ', '114 ', '101 ', '97 ', '115 ', '101 ']\n",
      "\n",
      "After Encryption :\n",
      "Plain text = decrease \tCipher text = ogÕËÚÖ¥©\n",
      "\n",
      "After Decryption :\n",
      "Cipher text = ogÕËÚÖ¥© \tDecrypted text = decrease\n"
     ]
    }
   ],
   "source": [
    "plain_text,key,iv = get_input()\n",
    "output = process(plain_text,key,iv)\n",
    "store_output_file(\"191IT220_IT352_P6_Output_TC1.txt\",output)"
   ]
  },
  {
   "cell_type": "markdown",
   "id": "08c74580",
   "metadata": {},
   "source": [
    "### Testcase 2"
   ]
  },
  {
   "cell_type": "code",
   "execution_count": 8,
   "id": "75ae5caa",
   "metadata": {},
   "outputs": [
    {
     "name": "stdout",
     "output_type": "stream",
     "text": [
      "Enter the plain text : delicate\n",
      "\n",
      "Enter the key value in the form of 2X2 matrix :\n",
      "key[0][0] = 13\n",
      "key[0][1] = 12\n",
      "key[1][0] = 14\n",
      "key[1][1] = 15\n",
      "\n",
      "Enter the IV value in the form of 2X2 matrix :\n",
      "iv[0][0] = 13\n",
      "iv[0][1] = 18\n",
      "iv[1][0] = 18\n",
      "iv[1][1] = 17\n",
      "\n",
      "Output :\n",
      "\n",
      "ASCII values of plain_text :\n",
      "['100 ', '101 ', '108 ', '105 ', '99 ', '97 ', '116 ', '101 ']\n",
      "\n",
      "After Encryption :\n",
      "Plain text = delicate \tCipher text = ÂÎµ±P^",
      "\n",
      "\n",
      "After Decryption :\n",
      "Cipher text = ÂÎµ±P^",
      " \tDecrypted text = delicate\n"
     ]
    }
   ],
   "source": [
    "plain_text,key,iv = get_input()\n",
    "output = process(plain_text,key,iv)\n",
    "store_output_file(\"191IT220_IT352_P6_Output_TC2.txt\",output)"
   ]
  },
  {
   "cell_type": "markdown",
   "id": "59f641a6",
   "metadata": {},
   "source": [
    "### Testcase 3"
   ]
  },
  {
   "cell_type": "code",
   "execution_count": 9,
   "id": "050abf7b",
   "metadata": {},
   "outputs": [
    {
     "name": "stdout",
     "output_type": "stream",
     "text": [
      "Enter the plain text : adequate\n",
      "\n",
      "Enter the key value in the form of 2X2 matrix :\n",
      "key[0][0] = 3\n",
      "key[0][1] = 2\n",
      "key[1][0] = 2\n",
      "key[1][1] = 5\n",
      "\n",
      "Enter the IV value in the form of 2X2 matrix :\n",
      "iv[0][0] = 7\n",
      "iv[0][1] = 8\n",
      "iv[1][0] = 8\n",
      "iv[1][1] = 7\n",
      "\n",
      "Output :\n",
      "\n",
      "ASCII values of plain_text :\n",
      "['97 ', '100 ', '101 ', '113 ', '117 ', '97 ', '116 ', '101 ']\n",
      "\n",
      "After Encryption :\n",
      "Plain text = adequate \tCipher text = DRCB\u0004E:´\n",
      "\n",
      "After Decryption :\n",
      "Cipher text = DRCB\u0004E:´ \tDecrypted text = adequate\n"
     ]
    }
   ],
   "source": [
    "plain_text,key,iv = get_input()\n",
    "output = process(plain_text,key,iv)\n",
    "store_output_file(\"191IT220_IT352_P6_Output_TC3.txt\",output)"
   ]
  },
  {
   "cell_type": "markdown",
   "id": "14f8f674",
   "metadata": {},
   "source": [
    "### Testcase 4"
   ]
  },
  {
   "cell_type": "code",
   "execution_count": 10,
   "id": "9e2e4b5b",
   "metadata": {},
   "outputs": [
    {
     "name": "stdout",
     "output_type": "stream",
     "text": [
      "Enter the plain text : anything\n",
      "\n",
      "Enter the key value in the form of 2X2 matrix :\n",
      "key[0][0] = 15\n",
      "key[0][1] = 13\n",
      "key[1][0] = 13\n",
      "key[1][1] = 15\n",
      "\n",
      "Enter the IV value in the form of 2X2 matrix :\n",
      "iv[0][0] = 7\n",
      "iv[0][1] = 8\n",
      "iv[1][0] = 7\n",
      "iv[1][1] = 7\n",
      "\n",
      "Output :\n",
      "\n",
      "ASCII values of plain_text :\n",
      "['97 ', '110 ', '121 ', '116 ', '104 ', '105 ', '110 ', '103 ']\n",
      "\n",
      "After Encryption :\n",
      "Plain text = anything \tCipher text = °½½°~y\n",
      "\n",
      "After Decryption :\n",
      "Cipher text = °½½°~y \tDecrypted text = anything\n"
     ]
    }
   ],
   "source": [
    "plain_text,key,iv = get_input()\n",
    "output = process(plain_text,key,iv)\n",
    "store_output_file(\"191IT220_IT352_P6_Output_TC4.txt\",output)"
   ]
  },
  {
   "cell_type": "markdown",
   "id": "dfff9f30",
   "metadata": {},
   "source": [
    "### Testcase 5"
   ]
  },
  {
   "cell_type": "code",
   "execution_count": 11,
   "id": "63b78f48",
   "metadata": {},
   "outputs": [
    {
     "name": "stdout",
     "output_type": "stream",
     "text": [
      "Enter the plain text : efficacy\n",
      "\n",
      "Enter the key value in the form of 2X2 matrix :\n",
      "key[0][0] = 5\n",
      "key[0][1] = 17\n",
      "key[1][0] = 7\n",
      "key[1][1] = 15\n",
      "\n",
      "Enter the IV value in the form of 2X2 matrix :\n",
      "iv[0][0] = 15\n",
      "iv[0][1] = 6\n",
      "iv[1][0] = 6\n",
      "iv[1][1] = 15\n",
      "\n",
      "Output :\n",
      "\n",
      "ASCII values of plain_text :\n",
      "['101 ', '102 ', '102 ', '105 ', '99 ', '97 ', '99 ', '121 ']\n",
      "\n",
      "After Encryption :\n",
      "Plain text = efficacy \tCipher text = \u0010<á!ù2\n",
      "\n",
      "After Decryption :\n",
      "Cipher text = \u0010<á!ù2 \tDecrypted text = efficacy\n"
     ]
    }
   ],
   "source": [
    "plain_text,key,iv = get_input()\n",
    "output = process(plain_text,key,iv)\n",
    "store_output_file(\"191IT220_IT352_P6_Output_TC5.txt\",output)"
   ]
  },
  {
   "cell_type": "markdown",
   "id": "19848c09",
   "metadata": {},
   "source": [
    "### Testcase 6"
   ]
  },
  {
   "cell_type": "code",
   "execution_count": 13,
   "id": "024f2706",
   "metadata": {},
   "outputs": [
    {
     "name": "stdout",
     "output_type": "stream",
     "text": [
      "Enter the plain text : earnings\n",
      "\n",
      "Enter the key value in the form of 2X2 matrix :\n",
      "key[0][0] = 5\n",
      "key[0][1] = 13\n",
      "key[1][0] = 3\n",
      "key[1][1] = 15\n",
      "\n",
      "Enter the IV value in the form of 2X2 matrix :\n",
      "iv[0][0] = 17\n",
      "iv[0][1] = 2\n",
      "iv[1][0] = 6\n",
      "iv[1][1] = 17\n",
      "\n",
      "Output :\n",
      "\n",
      "ASCII values of plain_text :\n",
      "['101 ', '97 ', '114 ', '110 ', '105 ', '110 ', '103 ', '115 ']\n",
      "\n",
      "After Encryption :\n",
      "Plain text = earnings \tCipher text = ># nVwÙ\n",
      "\n",
      "After Decryption :\n",
      "Cipher text = ># nVwÙ \tDecrypted text = earnings\n"
     ]
    }
   ],
   "source": [
    "plain_text,key,iv = get_input()\n",
    "output = process(plain_text,key,iv)\n",
    "store_output_file(\"191IT220_IT352_P6_Output_TC6.txt\",output)"
   ]
  },
  {
   "cell_type": "code",
   "execution_count": null,
   "id": "dcd14c15",
   "metadata": {},
   "outputs": [],
   "source": []
  }
 ],
 "metadata": {
  "kernelspec": {
   "display_name": "Python (Python 3.8.10)",
   "language": "python",
   "name": "py371"
  },
  "language_info": {
   "codemirror_mode": {
    "name": "ipython",
    "version": 3
   },
   "file_extension": ".py",
   "mimetype": "text/x-python",
   "name": "python",
   "nbconvert_exporter": "python",
   "pygments_lexer": "ipython3",
   "version": "3.8.10"
  }
 },
 "nbformat": 4,
 "nbformat_minor": 5
}
