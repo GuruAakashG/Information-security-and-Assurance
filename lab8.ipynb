{
 "cells": [
  {
   "cell_type": "markdown",
   "id": "7f1a89bf",
   "metadata": {},
   "source": [
    "Name : Guru Aakash G"
   ]
  },
  {
   "cell_type": "markdown",
   "id": "ea78c68d",
   "metadata": {},
   "source": [
    "Roll number : 191IT220"
   ]
  },
  {
   "cell_type": "markdown",
   "id": "839806cd",
   "metadata": {},
   "source": [
    "Subject : IT352 - Information Assurance and Security"
   ]
  },
  {
   "cell_type": "markdown",
   "id": "94bbdc3b",
   "metadata": {},
   "source": [
    "Date : 06-04-2022"
   ]
  },
  {
   "cell_type": "markdown",
   "id": "2c839645",
   "metadata": {},
   "source": [
    "Topic : Short-message attack of RSA crypto system"
   ]
  },
  {
   "cell_type": "markdown",
   "id": "88f9e83a",
   "metadata": {},
   "source": [
    "## Function"
   ]
  },
  {
   "cell_type": "code",
   "execution_count": 1,
   "id": "9abde93a",
   "metadata": {},
   "outputs": [],
   "source": [
    "def short_message_attack(e,N,cipher_text):\n",
    "    output = []\n",
    "    for i in range(0,1000):\n",
    "        if(pow(i,e)%N==cipher_text):\n",
    "            output.append(str(i))\n",
    "    for i in range(0,len(output)):\n",
    "        if(len(output[i])==1):\n",
    "            output[i] = \"00\" + output[i]\n",
    "        elif(len(output[i])==2):\n",
    "            output[i] = \"0\" + output[i]\n",
    "    return output"
   ]
  },
  {
   "cell_type": "code",
   "execution_count": 2,
   "id": "9c2e8e29",
   "metadata": {},
   "outputs": [],
   "source": [
    "def get_input():\n",
    "    e = int(input(\"Enter the value of e = \"))\n",
    "    N = int(input(\"Enter the value of N = \"))\n",
    "    cipher_text = int(input(\"Enter the cipher text = \"))\n",
    "    output = str(short_message_attack(e,N,cipher_text))\n",
    "    \n",
    "    print(\"\\nExpected Plain text are :\",output)\n",
    "    return output"
   ]
  },
  {
   "cell_type": "markdown",
   "id": "1f3a9ee8",
   "metadata": {},
   "source": [
    "# Sample Testcases"
   ]
  },
  {
   "cell_type": "markdown",
   "id": "b4cb3729",
   "metadata": {},
   "source": [
    "### Sample Testcase 1"
   ]
  },
  {
   "cell_type": "code",
   "execution_count": 3,
   "id": "f7e44611",
   "metadata": {},
   "outputs": [
    {
     "name": "stdout",
     "output_type": "stream",
     "text": [
      "Enter the value of e = 13\n",
      "Enter the value of N = 77\n",
      "Enter the cipher text = 26\n",
      "\n",
      "Expected Plain text are : ['005', '082', '159', '236', '313', '390', '467', '544', '621', '698', '775', '852', '929']\n"
     ]
    }
   ],
   "source": [
    "output = get_input()"
   ]
  },
  {
   "cell_type": "markdown",
   "id": "dd9b116c",
   "metadata": {},
   "source": [
    "### Sample Testcase 2"
   ]
  },
  {
   "cell_type": "code",
   "execution_count": 4,
   "id": "ea232a90",
   "metadata": {},
   "outputs": [
    {
     "name": "stdout",
     "output_type": "stream",
     "text": [
      "Enter the value of e = 13\n",
      "Enter the value of N = 77\n",
      "Enter the cipher text = 35\n",
      "\n",
      "Expected Plain text are : ['007', '084', '161', '238', '315', '392', '469', '546', '623', '700', '777', '854', '931']\n"
     ]
    }
   ],
   "source": [
    "output = get_input()"
   ]
  },
  {
   "cell_type": "markdown",
   "id": "3db30fe9",
   "metadata": {},
   "source": [
    "# Testcases"
   ]
  },
  {
   "cell_type": "markdown",
   "id": "34e3e5b6",
   "metadata": {},
   "source": [
    "### Storing in file"
   ]
  },
  {
   "cell_type": "code",
   "execution_count": 5,
   "id": "4ed34e61",
   "metadata": {},
   "outputs": [],
   "source": [
    "def store_output_file(filename,output):\n",
    "    file = open(filename,\"w\")\n",
    "    file.writelines(output)\n",
    "    file.close()"
   ]
  },
  {
   "cell_type": "markdown",
   "id": "c0e9bbc1",
   "metadata": {},
   "source": [
    "### Testcase 1"
   ]
  },
  {
   "cell_type": "code",
   "execution_count": 6,
   "id": "19cf9b0e",
   "metadata": {},
   "outputs": [
    {
     "name": "stdout",
     "output_type": "stream",
     "text": [
      "Enter the value of e = 7\n",
      "Enter the value of N = 77\n",
      "Enter the cipher text = 48\n",
      "\n",
      "Expected Plain text are : ['020', '097', '174', '251', '328', '405', '482', '559', '636', '713', '790', '867', '944']\n"
     ]
    }
   ],
   "source": [
    "output = get_input()\n",
    "store_output_file(\"191IT220_IT352_P8_Output_TC1.txt\",output)"
   ]
  },
  {
   "cell_type": "markdown",
   "id": "08c74580",
   "metadata": {},
   "source": [
    "### Testcase 2"
   ]
  },
  {
   "cell_type": "code",
   "execution_count": 7,
   "id": "75ae5caa",
   "metadata": {},
   "outputs": [
    {
     "name": "stdout",
     "output_type": "stream",
     "text": [
      "Enter the value of e = 7\n",
      "Enter the value of N = 77\n",
      "Enter the cipher text = 2\n",
      "\n",
      "Expected Plain text are : ['030', '107', '184', '261', '338', '415', '492', '569', '646', '723', '800', '877', '954']\n"
     ]
    }
   ],
   "source": [
    "output = get_input()\n",
    "store_output_file(\"191IT220_IT352_P8_Output_TC2.txt\",output)"
   ]
  },
  {
   "cell_type": "markdown",
   "id": "59f641a6",
   "metadata": {},
   "source": [
    "### Testcase 3"
   ]
  },
  {
   "cell_type": "code",
   "execution_count": 8,
   "id": "050abf7b",
   "metadata": {},
   "outputs": [
    {
     "name": "stdout",
     "output_type": "stream",
     "text": [
      "Enter the value of e = 9\n",
      "Enter the value of N = 677\n",
      "Enter the cipher text = 603\n",
      "\n",
      "Expected Plain text are : ['405']\n"
     ]
    }
   ],
   "source": [
    "output = get_input()\n",
    "store_output_file(\"191IT220_IT352_P8_Output_TC3.txt\",output)"
   ]
  },
  {
   "cell_type": "markdown",
   "id": "14f8f674",
   "metadata": {},
   "source": [
    "### Testcase 4"
   ]
  },
  {
   "cell_type": "code",
   "execution_count": 9,
   "id": "9e2e4b5b",
   "metadata": {},
   "outputs": [
    {
     "name": "stdout",
     "output_type": "stream",
     "text": [
      "Enter the value of e = 9\n",
      "Enter the value of N = 677\n",
      "Enter the cipher text = 291\n",
      "\n",
      "Expected Plain text are : ['142', '819']\n"
     ]
    }
   ],
   "source": [
    "output = get_input()\n",
    "store_output_file(\"191IT220_IT352_P8_Output_TC4.txt\",output)"
   ]
  },
  {
   "cell_type": "markdown",
   "id": "dfff9f30",
   "metadata": {},
   "source": [
    "### Testcase 5"
   ]
  },
  {
   "cell_type": "code",
   "execution_count": 10,
   "id": "63b78f48",
   "metadata": {},
   "outputs": [
    {
     "name": "stdout",
     "output_type": "stream",
     "text": [
      "Enter the value of e = 9\n",
      "Enter the value of N = 677\n",
      "Enter the cipher text = 190\n",
      "\n",
      "Expected Plain text are : ['343']\n"
     ]
    }
   ],
   "source": [
    "output = get_input()\n",
    "store_output_file(\"191IT220_IT352_P8_Output_TC5.txt\",output)"
   ]
  },
  {
   "cell_type": "markdown",
   "id": "19848c09",
   "metadata": {},
   "source": [
    "### Testcase 6"
   ]
  },
  {
   "cell_type": "code",
   "execution_count": 11,
   "id": "024f2706",
   "metadata": {},
   "outputs": [
    {
     "name": "stdout",
     "output_type": "stream",
     "text": [
      "Enter the value of e = 9\n",
      "Enter the value of N = 677\n",
      "Enter the cipher text = 602\n",
      "\n",
      "Expected Plain text are : ['595']\n"
     ]
    }
   ],
   "source": [
    "output = get_input()\n",
    "store_output_file(\"191IT220_IT352_P8_Output_TC6.txt\",output)"
   ]
  }
 ],
 "metadata": {
  "kernelspec": {
   "display_name": "Python (Python 3.8.10)",
   "language": "python",
   "name": "py371"
  },
  "language_info": {
   "codemirror_mode": {
    "name": "ipython",
    "version": 3
   },
   "file_extension": ".py",
   "mimetype": "text/x-python",
   "name": "python",
   "nbconvert_exporter": "python",
   "pygments_lexer": "ipython3",
   "version": "3.8.10"
  }
 },
 "nbformat": 4,
 "nbformat_minor": 5
}
